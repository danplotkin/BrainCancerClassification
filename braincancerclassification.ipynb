{
 "cells": [
  {
   "cell_type": "markdown",
   "metadata": {
    "id": "fUoTxYEGGCnR"
   },
   "source": [
    "# Import Dependencies"
   ]
  },
  {
   "cell_type": "code",
   "execution_count": 1,
   "metadata": {
    "id": "P9Ty4GxaGRo4",
    "outputId": "08a50619-61a7-4771-c5ab-3b2a637e3d48"
   },
   "outputs": [
    {
     "name": "stdout",
     "output_type": "stream",
     "text": [
      "Collecting opendatasets\n",
      "  Downloading opendatasets-0.1.22-py3-none-any.whl (15 kB)\n",
      "Requirement already satisfied: click in c:\\users\\danya\\anaconda3\\lib\\site-packages (from opendatasets) (8.0.4)\n",
      "Requirement already satisfied: kaggle in c:\\users\\danya\\anaconda3\\lib\\site-packages (from opendatasets) (1.5.13)\n",
      "Requirement already satisfied: tqdm in c:\\users\\danya\\anaconda3\\lib\\site-packages (from opendatasets) (4.65.0)\n",
      "Requirement already satisfied: colorama in c:\\users\\danya\\anaconda3\\lib\\site-packages (from click->opendatasets) (0.4.6)\n",
      "Requirement already satisfied: six>=1.10 in c:\\users\\danya\\anaconda3\\lib\\site-packages (from kaggle->opendatasets) (1.16.0)\n",
      "Requirement already satisfied: certifi in c:\\users\\danya\\anaconda3\\lib\\site-packages (from kaggle->opendatasets) (2022.12.7)\n",
      "Requirement already satisfied: python-slugify in c:\\users\\danya\\anaconda3\\lib\\site-packages (from kaggle->opendatasets) (5.0.2)\n",
      "Requirement already satisfied: requests in c:\\users\\danya\\anaconda3\\lib\\site-packages (from kaggle->opendatasets) (2.28.1)\n",
      "Requirement already satisfied: urllib3 in c:\\users\\danya\\anaconda3\\lib\\site-packages (from kaggle->opendatasets) (1.26.15)\n",
      "Requirement already satisfied: python-dateutil in c:\\users\\danya\\anaconda3\\lib\\site-packages (from kaggle->opendatasets) (2.8.2)\n",
      "Requirement already satisfied: text-unidecode>=1.3 in c:\\users\\danya\\anaconda3\\lib\\site-packages (from python-slugify->kaggle->opendatasets) (1.3)\n",
      "Requirement already satisfied: charset-normalizer<3,>=2 in c:\\users\\danya\\anaconda3\\lib\\site-packages (from requests->kaggle->opendatasets) (2.0.4)\n",
      "Requirement already satisfied: idna<4,>=2.5 in c:\\users\\danya\\anaconda3\\lib\\site-packages (from requests->kaggle->opendatasets) (3.4)\n",
      "Installing collected packages: opendatasets\n",
      "Successfully installed opendatasets-0.1.22\n"
     ]
    },
    {
     "name": "stderr",
     "output_type": "stream",
     "text": [
      "WARNING: Ignoring invalid distribution -atplotlib (c:\\users\\danya\\anaconda3\\lib\\site-packages)\n",
      "WARNING: Ignoring invalid distribution -atplotlib (c:\\users\\danya\\anaconda3\\lib\\site-packages)\n",
      "WARNING: Ignoring invalid distribution -atplotlib (c:\\users\\danya\\anaconda3\\lib\\site-packages)\n",
      "WARNING: Ignoring invalid distribution -atplotlib (c:\\users\\danya\\anaconda3\\lib\\site-packages)\n",
      "WARNING: Ignoring invalid distribution -atplotlib (c:\\users\\danya\\anaconda3\\lib\\site-packages)\n",
      "WARNING: Ignoring invalid distribution -atplotlib (c:\\users\\danya\\anaconda3\\lib\\site-packages)\n",
      "WARNING: Ignoring invalid distribution -atplotlib (c:\\users\\danya\\anaconda3\\lib\\site-packages)\n"
     ]
    }
   ],
   "source": [
    "!pip install opendatasets"
   ]
  },
  {
   "cell_type": "code",
   "execution_count": 2,
   "metadata": {
    "id": "EJFsP6EGGo3a"
   },
   "outputs": [],
   "source": [
    "import os\n",
    "import pandas as pd\n",
    "import numpy as np\n",
    "import glob\n",
    "import random\n",
    "import shutil\n",
    "import matplotlib.pyplot as plt\n",
    "from tqdm.auto import tqdm\n",
    "import opendatasets as od\n",
    "from PIL import Image\n",
    "\n",
    "import cv2\n",
    "import torch\n",
    "import torch.nn as nn\n",
    "import torch.optim as optim\n",
    "from torch.utils.data import DataLoader\n",
    "import torchvision.transforms as transforms\n",
    "from torchvision.models import vgg11_bn, VGG11_BN_Weights\n",
    "from torchvision.datasets import ImageFolder\n",
    "\n",
    "import warnings\n",
    "warnings.filterwarnings('ignore')\n",
    "\n",
    "plt.style.use('seaborn-v0_8')"
   ]
  },
  {
   "cell_type": "markdown",
   "metadata": {
    "id": "EteD6Mk-HHI-"
   },
   "source": [
    "# Load in Data"
   ]
  },
  {
   "cell_type": "code",
   "execution_count": 3,
   "metadata": {
    "id": "d0zYaexgHOIO",
    "outputId": "22ca4683-f2ba-44b7-dcef-77eab7e90526"
   },
   "outputs": [
    {
     "name": "stdout",
     "output_type": "stream",
     "text": [
      "Please provide your Kaggle credentials to download this dataset. Learn more: http://bit.ly/kaggle-creds\n",
      "Your Kaggle username:"
     ]
    },
    {
     "name": "stdin",
     "output_type": "stream",
     "text": [
      "  danielplotkin\n"
     ]
    },
    {
     "name": "stdout",
     "output_type": "stream",
     "text": [
      "Your Kaggle Key:"
     ]
    },
    {
     "name": "stdin",
     "output_type": "stream",
     "text": [
      "  ········\n"
     ]
    },
    {
     "name": "stdout",
     "output_type": "stream",
     "text": [
      "Downloading brain-tumor-mri-dataset.zip to .\\brain-tumor-mri-dataset\n"
     ]
    },
    {
     "name": "stderr",
     "output_type": "stream",
     "text": [
      "100%|██████████| 149M/149M [00:06<00:00, 25.2MB/s] \n"
     ]
    },
    {
     "name": "stdout",
     "output_type": "stream",
     "text": [
      "\n"
     ]
    }
   ],
   "source": [
    "od.download('https://www.kaggle.com/datasets/masoudnickparvar/brain-tumor-mri-dataset')"
   ]
  },
  {
   "cell_type": "code",
   "execution_count": 4,
   "metadata": {
    "id": "hFrh4IsVHytc"
   },
   "outputs": [],
   "source": [
    "# define data paths\n",
    "BASE_DIR = 'brain-tumor-mri-dataset/'\n",
    "TRAINING_FOLDER = os.path.join(BASE_DIR, 'Training')\n",
    "TESTING_FOLDER = os.path.join(BASE_DIR, 'Testing')\n",
    "VAL_FOLDER = os.path.join(BASE_DIR, 'Validation')\n",
    "CLASSES = sorted(os.listdir(TRAINING_FOLDER))"
   ]
  },
  {
   "cell_type": "markdown",
   "metadata": {
    "id": "aounJ9_bPLMo"
   },
   "source": [
    "### Create Validation Set"
   ]
  },
  {
   "cell_type": "code",
   "execution_count": 5,
   "metadata": {
    "id": "9Koh2BvrVgLc"
   },
   "outputs": [],
   "source": [
    "# create directory\n",
    "if not os.path.exists(VAL_FOLDER):\n",
    "    os.makedirs(VAL_FOLDER)"
   ]
  },
  {
   "cell_type": "code",
   "execution_count": 6,
   "metadata": {
    "id": "X2iqtAiZPly5",
    "outputId": "3221b3b6-e9e5-481e-a25f-a732f99a7492"
   },
   "outputs": [
    {
     "data": {
      "application/vnd.jupyter.widget-view+json": {
       "model_id": "ccc604f11a37474d8c67b6f18080d7fa",
       "version_major": 2,
       "version_minor": 0
      },
      "text/plain": [
       "  0%|          | 0/1142 [00:00<?, ?it/s]"
      ]
     },
     "metadata": {},
     "output_type": "display_data"
    }
   ],
   "source": [
    "# remove content from folder\n",
    "shutil.rmtree(VAL_FOLDER)\n",
    "\n",
    "# get image files\n",
    "image_files = glob.glob(os.path.join(TRAINING_FOLDER, '**/*.jpg'), recursive=True)\n",
    "\n",
    "selected_images = random.sample(image_files, int(len(image_files)*0.2))\n",
    "\n",
    "# Move the selected images to the validation directory\n",
    "for image_path in tqdm(selected_images):\n",
    "    # get the class name from the parent directory\n",
    "    class_folder = os.path.basename(os.path.dirname(image_path))\n",
    "\n",
    "    # create a new folder in the validation directory for the current class\n",
    "    val_class_path = os.path.join(VAL_FOLDER, class_folder)\n",
    "    if not os.path.exists(val_class_path):\n",
    "        os.makedirs(val_class_path)\n",
    "\n",
    "    # Move the image to the corresponding validation class folder\n",
    "    val_image_path = os.path.join(val_class_path, os.path.basename(image_path))\n",
    "    shutil.move(image_path, val_image_path)"
   ]
  },
  {
   "cell_type": "code",
   "execution_count": 7,
   "metadata": {
    "id": "uMkrUWfoTrIA",
    "outputId": "28f2b274-7752-48e9-82b5-8e73a2011660"
   },
   "outputs": [
    {
     "name": "stdout",
     "output_type": "stream",
     "text": [
      "Train size: 4570\n",
      "Validation Size: 1142\n",
      "Test Size: 1311\n"
     ]
    }
   ],
   "source": [
    "folders = [TRAINING_FOLDER, VAL_FOLDER, TESTING_FOLDER]\n",
    "train_size, val_size, test_size = [len(glob.glob(os.path.join(folder, '**/*.jpg'), recursive=True)) for folder in folders]\n",
    "\n",
    "print(f'Train size: {train_size}\\nValidation Size: {val_size}\\nTest Size: {test_size}')"
   ]
  },
  {
   "cell_type": "markdown",
   "metadata": {
    "id": "BLk-nE_cIC0K"
   },
   "source": [
    "# EDA\n",
    "\n",
    "We will construct a pipeline class for our EDA."
   ]
  },
  {
   "cell_type": "code",
   "execution_count": 8,
   "metadata": {
    "id": "KNjH9fguJD63"
   },
   "outputs": [],
   "source": [
    "class EDA:\n",
    "    def __init__(self, training_folder, testing_folder, valid_folder, classes):\n",
    "        self.training_folder = training_folder\n",
    "        self.testing_folder = testing_folder\n",
    "        self.valid_folder = valid_folder\n",
    "        self.classes = classes\n",
    "\n",
    "    def _get_training_samples(self):\n",
    "        \"\"\"\n",
    "        Function to retrieve a list of one sample per each class.\n",
    "        \"\"\"\n",
    "        paths = [os.path.join(self.training_folder, cls) for cls in self.classes]\n",
    "        img_paths = {}\n",
    "        for path, cls in zip(paths, self.classes):\n",
    "            img_name = sorted(os.listdir(path))[0]\n",
    "            img_paths[cls] = os.path.join(path, img_name)\n",
    "        return img_paths\n",
    "\n",
    "    def _get_counts(self, set_type=['train', 'test', 'val']):\n",
    "        \"\"\"\n",
    "        Function to get the counts of each class in a given set.\n",
    "\n",
    "        Args:\n",
    "         `set_type` (str): Which set to get counts for. Options are `train` and `test`.\n",
    "\n",
    "        Returns: Dictionary of counts.\n",
    "        \"\"\"\n",
    "        if set_type=='train':\n",
    "            folder = self.training_folder\n",
    "        elif set_type=='test':\n",
    "            folder = self.testing_folder\n",
    "        else:\n",
    "            folder = self.valid_folder\n",
    "\n",
    "        counts = {}\n",
    "\n",
    "        # iterate through classes\n",
    "        for class_type in self.classes:\n",
    "            dir = os.path.join(folder, class_type)\n",
    "            counts[class_type] = np.count_nonzero(os.listdir(dir))\n",
    "        return counts\n",
    "\n",
    "    def plot_samples(self):\n",
    "        \"\"\"\n",
    "        Function to plot training samples.\n",
    "        \"\"\"\n",
    "        fig, ax = plt.subplots(1, 4, figsize=(10, 6))\n",
    "        for idx, data in enumerate(self._get_training_samples().items()):\n",
    "            cls, path = data\n",
    "            img = cv2.imread(path)\n",
    "            ax[idx].imshow(img)\n",
    "            ax[idx].set_title(cls)\n",
    "            ax[idx].axis('off')\n",
    "        plt.show()\n",
    "\n",
    "    def plot_counts(self, set_type=['train', 'test', 'val']):\n",
    "        \"\"\"\n",
    "        Function to plot distribution counts.\n",
    "\n",
    "        Args: \n",
    "        `set_type` (str): Which set to plot counts for. Options are `train` and `test`.\n",
    "        \"\"\"\n",
    "        counts = self._get_counts(set_type=set_type)\n",
    "        X = counts.keys()\n",
    "        y = counts.values()\n",
    "\n",
    "        # plot counts\n",
    "        plt.bar(X, y)\n",
    "        plt.title(f'{set_type.capitalize()} Set Distributions')\n",
    "        plt.xlabel('Class')\n",
    "        plt.ylabel('Counts')\n",
    "        plt.show()"
   ]
  },
  {
   "cell_type": "code",
   "execution_count": 9,
   "metadata": {
    "id": "qT8XTRPM-wL0"
   },
   "outputs": [],
   "source": [
    "# initialize explorer\n",
    "eda = EDA(TRAINING_FOLDER, TESTING_FOLDER, VAL_FOLDER, CLASSES)"
   ]
  },
  {
   "cell_type": "markdown",
   "metadata": {
    "id": "-4HQZYhuI4wG"
   },
   "source": [
    "### Data Distribution"
   ]
  },
  {
   "cell_type": "code",
   "execution_count": 10,
   "metadata": {
    "id": "IJI81SENLO43",
    "outputId": "cef11c44-88a3-4313-d515-9aac3d129962"
   },
   "outputs": [
    {
     "data": {
      "image/png": "[encoded data removed]",
      "text/plain": [
       "<Figure size 800x550 with 1 Axes>"
      ]
     },
     "metadata": {},
     "output_type": "display_data"
    }
   ],
   "source": [
    "# plot train counts\n",
    "eda.plot_counts('train')"
   ]
  },
  {
   "cell_type": "code",
   "execution_count": 11,
   "metadata": {
    "id": "CVxMK1MxUNdH",
    "outputId": "0c8097e2-5ece-4fd3-a48e-607c29e1b978"
   },
   "outputs": [
    {
     "data": {
      "image/png": "[encoded data removed]",
      "text/plain": [
       "<Figure size 800x550 with 1 Axes>"
      ]
     },
     "metadata": {},
     "output_type": "display_data"
    }
   ],
   "source": [
    "# plot validation counts\n",
    "eda.plot_counts('valid')"
   ]
  },
  {
   "cell_type": "code",
   "execution_count": 12,
   "metadata": {
    "id": "YvGjUwmZNvoZ",
    "outputId": "e9bb4517-be92-4f3f-c37f-be2992faeb96"
   },
   "outputs": [
    {
     "data": {
      "image/png": "[encoded data removed]",
      "text/plain": [
       "<Figure size 800x550 with 1 Axes>"
      ]
     },
     "metadata": {},
     "output_type": "display_data"
    }
   ],
   "source": [
    "# plot test counts\n",
    "eda.plot_counts('test')"
   ]
  },
  {
   "cell_type": "markdown",
   "metadata": {
    "id": "qkyShgtZTCfr"
   },
   "source": [
    "### Plot Samples"
   ]
  },
  {
   "cell_type": "code",
   "execution_count": 13,
   "metadata": {
    "id": "Gsb8zsa8TF_i",
    "outputId": "865e5b63-3ac8-48a0-90bf-7e28052f445e"
   },
   "outputs": [
    {
     "data": {
      "image/png": "[encoded data removed]",
      "text/plain": [
       "<Figure size 1000x600 with 4 Axes>"
      ]
     },
     "metadata": {},
     "output_type": "display_data"
    }
   ],
   "source": [
    "eda.plot_samples()"
   ]
  },
  {
   "cell_type": "markdown",
   "metadata": {
    "id": "-6lPKlPqBteI"
   },
   "source": [
    "# Preprocess Data"
   ]
  },
  {
   "cell_type": "code",
   "execution_count": 14,
   "metadata": {
    "id": "qvn6IKbtXEo7"
   },
   "outputs": [],
   "source": [
    "class Config:\n",
    "    batch_size = 32\n",
    "    epochs = 50\n",
    "    lr = 1e-4\n",
    "    n_classes = len(CLASSES)\n",
    "    device = torch.device(\"cuda:0\" if torch.cuda.is_available() else \"cpu\")"
   ]
  },
  {
   "cell_type": "markdown",
   "metadata": {
    "id": "r3RXWVTvNPEU"
   },
   "source": [
    "### Augment Data"
   ]
  },
  {
   "cell_type": "code",
   "execution_count": 15,
   "metadata": {
    "id": "NBFdyErjCrMc"
   },
   "outputs": [],
   "source": [
    "train_transforms = transforms.Compose([\n",
    "    transforms.ToTensor(),\n",
    "    transforms.RandomResizedCrop(224),\n",
    "    transforms.ColorJitter(brightness=0.2, contrast=0.2),\n",
    "    transforms.Normalize([0.485, 0.456, 0.406], [0.229, 0.224, 0.225]),\n",
    "    transforms.RandomRotation(20),\n",
    "    transforms.RandomHorizontalFlip()\n",
    "])\n",
    "\n",
    "val_transformations = transforms.Compose([\n",
    "    transforms.ToTensor(),\n",
    "    transforms.Resize((224, 224)),\n",
    "    transforms.Normalize([0.485, 0.456, 0.406], [0.229, 0.224, 0.225])\n",
    "])"
   ]
  },
  {
   "cell_type": "markdown",
   "metadata": {
    "id": "oXRn2PcBNRvA"
   },
   "source": [
    "### Load in Datasets"
   ]
  },
  {
   "cell_type": "code",
   "execution_count": 16,
   "metadata": {
    "id": "qecpPI89Mrf0"
   },
   "outputs": [],
   "source": [
    "# create datasets\n",
    "train_dataset = ImageFolder(TRAINING_FOLDER, transform=train_transforms)\n",
    "val_dataset = ImageFolder(VAL_FOLDER, transform=val_transformations)\n",
    "test_dataset = ImageFolder(TESTING_FOLDER, transform=val_transformations)"
   ]
  },
  {
   "cell_type": "code",
   "execution_count": 17,
   "metadata": {
    "id": "OuZAd7aQLbUF",
    "outputId": "87f75179-8f8a-478c-cf26-6ae24606e8e5"
   },
   "outputs": [
    {
     "data": {
      "text/plain": [
       "['glioma', 'meningioma', 'notumor', 'pituitary']"
      ]
     },
     "execution_count": 17,
     "metadata": {},
     "output_type": "execute_result"
    }
   ],
   "source": [
    "train_dataset.classes"
   ]
  },
  {
   "cell_type": "markdown",
   "metadata": {
    "id": "5FRD_fPPMzVJ"
   },
   "source": [
    "### Batch Datasets"
   ]
  },
  {
   "cell_type": "code",
   "execution_count": 18,
   "metadata": {
    "id": "c9vV6NllXX8I"
   },
   "outputs": [],
   "source": [
    "# batch sets\n",
    "train_loader = DataLoader(train_dataset, batch_size=Config.batch_size, shuffle=True)\n",
    "val_loader = DataLoader(val_dataset, batch_size=Config.batch_size)\n",
    "test_loader = DataLoader(test_dataset, batch_size=Config.batch_size)"
   ]
  },
  {
   "cell_type": "code",
   "execution_count": 19,
   "metadata": {
    "id": "q3uK5DzcJF1i",
    "outputId": "941d374a-c7f3-4929-ae4d-e0d119b7bb23"
   },
   "outputs": [
    {
     "name": "stdout",
     "output_type": "stream",
     "text": [
      "Image shape: torch.Size([32, 3, 224, 224]), Label Shape: torch.Size([32])\n"
     ]
    }
   ],
   "source": [
    "ex_inputs, ex_classes = next(iter(train_loader))\n",
    "print(f\"Image shape: {ex_inputs.shape}, Label Shape: {ex_classes.shape}\")"
   ]
  },
  {
   "cell_type": "markdown",
   "metadata": {
    "id": "DzGG3_g-ZaQA"
   },
   "source": [
    "# Build Model\n",
    "\n",
    "Below we will build our CNN using the `torch.nn.Module` class and the VGG-11 pretrained architecture."
   ]
  },
  {
   "cell_type": "code",
   "execution_count": 20,
   "metadata": {
    "id": "xKBJRZerN_xC"
   },
   "outputs": [],
   "source": [
    "class Net(nn.Module):\n",
    "    def __init__(self, num_classes):\n",
    "        super(Net, self).__init__()\n",
    "\n",
    "        # load in vgg\n",
    "        vgg = vgg11_bn(weights=VGG11_BN_Weights)\n",
    "        num_input_features = vgg.classifier[6].in_features\n",
    "\n",
    "        # freeze layers\n",
    "        for param in vgg.parameters():\n",
    "            param.requires_grad = False\n",
    "\n",
    "        # define feed forward network\n",
    "        vgg.classifier[6] = nn.Linear(num_input_features, num_classes)\n",
    "        for param in vgg.classifier.parameters():\n",
    "            param.requires_grad = True\n",
    "            \n",
    "        self.model = vgg\n",
    "\n",
    "    def forward(self, x):\n",
    "        return self.model(x)"
   ]
  },
  {
   "cell_type": "markdown",
   "metadata": {
    "id": "XwV2Z9Zj7OJ2"
   },
   "source": [
    "### Create Early Stopping Callback\n",
    "\n",
    "We will first create an early stopping callback that will stop our training and restore the best weights when a certain patience interval is hit."
   ]
  },
  {
   "cell_type": "code",
   "execution_count": 21,
   "metadata": {
    "id": "EdCZfVXs61Ly"
   },
   "outputs": [],
   "source": [
    "class EarlyStopper:\n",
    "    def __init__(self, patience=5, min_delta=0):\n",
    "        self.patience = patience\n",
    "        self.min_delta = min_delta\n",
    "        self.counter = 0\n",
    "        self.min_validation_loss = np.inf\n",
    "\n",
    "    def early_stop(self, validation_loss):\n",
    "        if validation_loss < self.min_validation_loss:\n",
    "            self.min_validation_loss = validation_loss\n",
    "            self.counter = 0\n",
    "        elif validation_loss > (self.min_validation_loss + self.min_delta):\n",
    "            self.counter += 1\n",
    "            if self.counter >= self.patience:\n",
    "                return True\n",
    "        return False"
   ]
  },
  {
   "cell_type": "markdown",
   "metadata": {
    "id": "nDGSbYNFNA6B"
   },
   "source": [
    "### Define Training Class"
   ]
  },
  {
   "cell_type": "markdown",
   "metadata": {
    "id": "vuQBtkmxkUdZ"
   },
   "source": [
    "Below we will define a class that will be used as our trainer. This will train our model, evaluate our model, save our model weights, incorporate our early stopping, plot training, and predict."
   ]
  },
  {
   "cell_type": "code",
   "execution_count": 22,
   "metadata": {
    "id": "SQmqLsXnjmlC"
   },
   "outputs": [],
   "source": [
    "class BrainTumorClassification:\n",
    "    def __init__(self, model, optimizer, criterion, val_transformations, train_dataset, config):\n",
    "        self.model = model.to(Config.device)\n",
    "        self.optimizer = optimizer\n",
    "        self.criterion = criterion\n",
    "        self.output_folder = 'torch_models/'\n",
    "        self.history = {}\n",
    "        self.val_transformations = val_transformations\n",
    "        self.classes = train_dataset.classes\n",
    "        self.Config = config\n",
    "\n",
    "    def _train_epoch(self, training_loader):\n",
    "        \"\"\"\n",
    "        Train a single epoch of the model.\n",
    "\n",
    "        Args:\n",
    "            training_loader (torch.utils.data.DataLoader): The PyTorch data loader object for the training set.\n",
    "\n",
    "        Returns:\n",
    "            Tuple of floats: The average training accuracy and average training loss for the epoch.\n",
    "        \"\"\"\n",
    "        running_loss = 0.00\n",
    "        total_correct = 0\n",
    "        total_samples = 0\n",
    "\n",
    "        self.model.train()\n",
    "        prog_bar = tqdm(enumerate(training_loader), total=len(training_loader))\n",
    "        for batch_idx, (imgs, labels) in prog_bar:\n",
    "\n",
    "            # configure to device\n",
    "            imgs, labels = imgs.to(self.Config.device), labels.to(self.Config.device)\n",
    "\n",
    "            # zero out gradients\n",
    "            self.optimizer.zero_grad()\n",
    "\n",
    "            # forward pass\n",
    "            outputs = self.model(imgs)\n",
    "            loss = self.criterion(outputs, labels)\n",
    "\n",
    "            # backward pass\n",
    "            loss.backward()\n",
    "            self.optimizer.step()\n",
    "\n",
    "            # calculate loss of batch in average\n",
    "            running_loss += loss.item()\n",
    "\n",
    "            # calculate accuracy\n",
    "            preds = torch.argmax(outputs, dim=1)\n",
    "            n_correct = torch.sum(preds == labels)\n",
    "            total_correct += n_correct\n",
    "            total_samples += len(labels)\n",
    "\n",
    "            prog_bar.set_description(f\"Batch {batch_idx+1}/{len(training_loader)} - Avg Train Loss: {running_loss/(batch_idx+1):.4f}, Avg Train Accuracy: {(total_correct/total_samples):.4f}\")\n",
    "\n",
    "        running_loss /= len(training_loader)\n",
    "        total_accuracy = float(total_correct / total_samples)\n",
    "\n",
    "        return total_accuracy, running_loss\n",
    "\n",
    "    @torch.no_grad()\n",
    "    def _eval_epoch(self, eval_loader, return_metrics=True):\n",
    "        \"\"\"\n",
    "        Evaluates the performance of the model on a validation set for a single epoch.\n",
    "\n",
    "        Args:\n",
    "            eval_loader (torch.utils.data.dataloader.DataLoader): PyTorch validation loader.\n",
    "            return_metrics (bool): Whether to return the evaluation metrics (accuracy and loss).\n",
    "\n",
    "        Returns:\n",
    "            tuple: A tuple containing the evaluation metrics. The first element is the average validation accuracy,\n",
    "            and the second element is the average validation loss.\n",
    "        \"\"\"\n",
    "        running_loss = 0.00\n",
    "        total_correct = 0\n",
    "        total_samples = 0\n",
    "\n",
    "        self.model.eval() \n",
    "        prog_bar = tqdm(enumerate(eval_loader), total=len(eval_loader))\n",
    "        for batch_idx, (imgs, labels) in prog_bar:\n",
    "\n",
    "            # configure to device\n",
    "            imgs, labels = imgs.to(self.Config.device), labels.to(self.Config.device)\n",
    "\n",
    "            # forward pass\n",
    "            outputs = self.model(imgs)\n",
    "            loss = self.criterion(outputs, labels)\n",
    "\n",
    "            # calculate loss of batch in average\n",
    "            running_loss += loss.item()\n",
    "\n",
    "            # calculate accuracy\n",
    "            preds = torch.argmax(outputs, dim=1)\n",
    "            n_correct = torch.sum(preds == labels)\n",
    "            total_correct += n_correct\n",
    "            total_samples += len(labels)\n",
    "\n",
    "            prog_bar.set_description(f\"Batch {batch_idx+1}/{len(eval_loader)} - Avg Val Loss: {running_loss/(batch_idx+1):.4f}, Avg Val Accuracy: {(total_correct/total_samples):.4f}\")\n",
    "\n",
    "        running_loss /= len(eval_loader)\n",
    "        total_accuracy = float(total_correct / total_samples)\n",
    "        if return_metrics:\n",
    "            return total_accuracy, running_loss\n",
    "\n",
    "    def train(self, training_loader, eval_loader, num_epochs, output_dir):\n",
    "        \"\"\"\n",
    "        Method to train the model for a given number of epochs using the provided training and evaluation data loaders.\n",
    "\n",
    "        Args:\n",
    "            training_loader (torch.utils.data.dataloader.DataLoader): PyTorch data loader for training data.\n",
    "            eval_loader (torch.utils.data.dataloader.DataLoader): PyTorch data loader for evaluation data.\n",
    "            num_epochs (int): Number of epochs to train the model.\n",
    "            output_dir (str): Path to the directory where the trained model will be saved.\n",
    "\n",
    "        Returns:\n",
    "            None. Trains the model and saves it to the specified output directory.\n",
    "        \"\"\"\n",
    "\n",
    "        # create output directory\n",
    "        if not os.path.exists(self.output_folder):\n",
    "            os.makedirs(self.output_folder)\n",
    "        file_dir = os.path.join(self.output_folder, output_dir)\n",
    "\n",
    "        # initialize metrics\n",
    "        train_accuracies, train_losses = [], []\n",
    "        val_accuracies, val_losses = [], []\n",
    "\n",
    "        # define early stopping variables\n",
    "        early_stopper = EarlyStopper()\n",
    "        best_model_weights = None\n",
    "        best_epoch = 0\n",
    "        best_val_loss = np.inf\n",
    "\n",
    "        for epoch in range(num_epochs):\n",
    "            print(f\"Epoch {epoch+1}/{num_epochs}\")\n",
    "\n",
    "            # train one epoch\n",
    "            train_acc, train_loss = self._train_epoch(training_loader)\n",
    "            train_accuracies.append(train_acc)\n",
    "            train_losses.append(train_loss)\n",
    "\n",
    "            # eval one epoch\n",
    "            val_acc, val_loss = self._eval_epoch(eval_loader)\n",
    "            val_accuracies.append(val_acc)\n",
    "            val_losses.append(val_loss)\n",
    "\n",
    "            print()\n",
    "\n",
    "            # update best model weights\n",
    "            if val_loss < best_val_loss:\n",
    "                best_val_loss = val_loss # update best val loss\n",
    "                best_epoch = epoch+1 # update best epoch for best val loss\n",
    "                best_model_weights = self.model.state_dict() # update best weights\n",
    "\n",
    "            # check for early stopping\n",
    "            if early_stopper.early_stop(val_loss):\n",
    "                print(f\"Validation loss has not improved for {early_stopper.patience} epochs. Early stopping...\")\n",
    "                print(f\"Reverting back to weights for epoch {best_epoch}.\")\n",
    "                break\n",
    "\n",
    "        # end of training\n",
    "        print('Training Finished!')\n",
    "\n",
    "        # load best weights\n",
    "        self.model.load_state_dict(best_model_weights)\n",
    "\n",
    "        # save model\n",
    "        torch.save(self.model, file_dir)\n",
    "\n",
    "        # get history\n",
    "        self.history = {\n",
    "            'accuracy': {'train': train_accuracies, 'eval': val_accuracies},\n",
    "            'loss': {'train': train_losses, 'eval': val_losses}\n",
    "        }\n",
    "\n",
    "    def plot_training(self):\n",
    "        \"\"\"\n",
    "        Plots the training and validation accuracy and loss over each epoch. Retrieves the accuracy and loss\n",
    "        values from the `self.history` dictionary and creates two subplots to display the accuracy and loss\n",
    "        data separately.\n",
    "        \"\"\"\n",
    "\n",
    "        # Get the accuracy and loss values from self.history\n",
    "        train_accuracies = self.history['accuracy']['train']\n",
    "        val_accuracies = self.history['accuracy']['eval']\n",
    "        train_losses = self.history['loss']['train']\n",
    "        val_losses = self.history['loss']['eval']\n",
    "\n",
    "        # Create subplots for accuracy and loss plots\n",
    "        fig, axs = plt.subplots(2, 1, figsize=(10, 6))\n",
    "        fig.subplots_adjust(hspace=0.5)\n",
    "\n",
    "        # Plot training and validation accuracies\n",
    "        axs[0].plot(train_accuracies, label='Training accuracy')\n",
    "        axs[0].plot(val_accuracies, label='Validation accuracy')\n",
    "        axs[0].set_title('Accuracy')\n",
    "        axs[0].set_xlabel('Epoch')\n",
    "        axs[0].set_ylabel('Accuracy')\n",
    "        axs[0].legend()\n",
    "\n",
    "        # Plot training and validation losses\n",
    "        axs[1].plot(train_losses, label='Training loss')\n",
    "        axs[1].plot(val_losses, label='Validation loss')\n",
    "        axs[1].set_title('Loss')\n",
    "        axs[1].set_xlabel('Epoch')\n",
    "        axs[1].set_ylabel('Loss')\n",
    "        axs[1].legend()\n",
    "\n",
    "        plt.show()\n",
    "\n",
    "    def evaluate(self, test_loader):\n",
    "        \"\"\"\n",
    "        Evaluates the model on a given test loader and returns the accuracy and loss metrics. Uses the\n",
    "        `_eval_epoch` method to calculate the metrics for each batch in the loader and returns the final\n",
    "        metrics for the entire dataset.\n",
    "\n",
    "        Args:\n",
    "            test_loader (torch.utils.data.dataloader.DataLoader): PyTorch DataLoader for the test dataset\n",
    "\n",
    "        Returns:\n",
    "            Tuple of the average accuracy and loss for the test dataset\n",
    "        \"\"\"\n",
    "        return self._eval_epoch(test_loader, return_metrics=False)\n",
    "\n",
    "    def predict(self, img):\n",
    "        \"\"\"\n",
    "        Takes an image and returns the predicted class label. Applies the validation transformations to the\n",
    "        image, performs a forward pass through the model, and returns the predicted class.\n",
    "\n",
    "        Args:\n",
    "            img: PIL Image object of the input image\n",
    "\n",
    "        Returns:\n",
    "            The predicted class label as a string\n",
    "        \"\"\"\n",
    "        img = self.val_transformations(img)\n",
    "        img = torch.unsqueeze(img, 0)\n",
    "        img = img.to(self.Config.device)\n",
    "        pred = self.model(img)\n",
    "        pred_idx = torch.argmax(pred, dim=1)\n",
    "        return self.classes[pred_idx]"
   ]
  },
  {
   "cell_type": "markdown",
   "metadata": {
    "id": "w2MHFdRg7dAD"
   },
   "source": [
    "### Initialize Model"
   ]
  },
  {
   "cell_type": "code",
   "execution_count": 23,
   "metadata": {
    "id": "6fF_KjpOBlXR",
    "outputId": "7bdc8011-e15b-41b0-c361-3630f3a383f5"
   },
   "outputs": [
    {
     "name": "stderr",
     "output_type": "stream",
     "text": [
      "Downloading: \"https://download.pytorch.org/models/vgg11_bn-6002323d.pth\" to C:\\Users\\danya/.cache\\torch\\hub\\checkpoints\\vgg11_bn-6002323d.pth\n",
      "100%|██████████| 507M/507M [00:16<00:00, 31.8MB/s] \n"
     ]
    }
   ],
   "source": [
    "# initialize params\n",
    "model = Net(num_classes=Config.n_classes)\n",
    "optimizer = optim.Adam(model.parameters(), lr=Config.lr)\n",
    "criterion = nn.CrossEntropyLoss()\n",
    "early_stopper = EarlyStopper(patience=5)"
   ]
  },
  {
   "cell_type": "code",
   "execution_count": 24,
   "metadata": {
    "id": "nfvNJ6YdRgbo"
   },
   "outputs": [],
   "source": [
    "# initialize classifier\n",
    "classifier = BrainTumorClassification(\n",
    "    model, \n",
    "    optimizer, \n",
    "    criterion,\n",
    "    val_transformations,\n",
    "    train_dataset,\n",
    "    Config\n",
    ")"
   ]
  },
  {
   "cell_type": "markdown",
   "metadata": {
    "id": "_LHv1SFGRqxJ"
   },
   "source": [
    "# Train Model \n",
    "\n",
    "We will now begin the intitial training of our CNN."
   ]
  },
  {
   "cell_type": "markdown",
   "metadata": {
    "id": "Wtcm6kI1oqO9"
   },
   "source": [
    "### Run Training Loop"
   ]
  },
  {
   "cell_type": "code",
   "execution_count": 25,
   "metadata": {
    "id": "365NaRcsClmR",
    "outputId": "d4119303-738f-4e87-dfc4-f62fd5e9c2b2"
   },
   "outputs": [
    {
     "name": "stdout",
     "output_type": "stream",
     "text": [
      "Epoch 1/50\n"
     ]
    },
    {
     "data": {
      "application/vnd.jupyter.widget-view+json": {
       "model_id": "b27578026cfc4e81980b051936de8e98",
       "version_major": 2,
       "version_minor": 0
      },
      "text/plain": [
       "  0%|          | 0/143 [00:00<?, ?it/s]"
      ]
     },
     "metadata": {},
     "output_type": "display_data"
    },
    {
     "data": {
      "application/vnd.jupyter.widget-view+json": {
       "model_id": "60bb2ff9bf79402bb727f6b9c6f3252f",
       "version_major": 2,
       "version_minor": 0
      },
      "text/plain": [
       "  0%|          | 0/36 [00:00<?, ?it/s]"
      ]
     },
     "metadata": {},
     "output_type": "display_data"
    },
    {
     "name": "stdout",
     "output_type": "stream",
     "text": [
      "\n",
      "Epoch 2/50\n"
     ]
    },
    {
     "data": {
      "application/vnd.jupyter.widget-view+json": {
       "model_id": "783d5d600b4f420eb11c5f671e111027",
       "version_major": 2,
       "version_minor": 0
      },
      "text/plain": [
       "  0%|          | 0/143 [00:00<?, ?it/s]"
      ]
     },
     "metadata": {},
     "output_type": "display_data"
    },
    {
     "data": {
      "application/vnd.jupyter.widget-view+json": {
       "model_id": "c6a530b032e9430d9dc0e7c92b7db9b5",
       "version_major": 2,
       "version_minor": 0
      },
      "text/plain": [
       "  0%|          | 0/36 [00:00<?, ?it/s]"
      ]
     },
     "metadata": {},
     "output_type": "display_data"
    },
    {
     "name": "stdout",
     "output_type": "stream",
     "text": [
      "\n",
      "Epoch 3/50\n"
     ]
    },
    {
     "data": {
      "application/vnd.jupyter.widget-view+json": {
       "model_id": "a4322578742a4c458414dfd54bb95b6a",
       "version_major": 2,
       "version_minor": 0
      },
      "text/plain": [
       "  0%|          | 0/143 [00:00<?, ?it/s]"
      ]
     },
     "metadata": {},
     "output_type": "display_data"
    },
    {
     "data": {
      "application/vnd.jupyter.widget-view+json": {
       "model_id": "071c28d979044e0f839102d4a70b3f7c",
       "version_major": 2,
       "version_minor": 0
      },
      "text/plain": [
       "  0%|          | 0/36 [00:00<?, ?it/s]"
      ]
     },
     "metadata": {},
     "output_type": "display_data"
    },
    {
     "name": "stdout",
     "output_type": "stream",
     "text": [
      "\n",
      "Epoch 4/50\n"
     ]
    },
    {
     "data": {
      "application/vnd.jupyter.widget-view+json": {
       "model_id": "fa3a424de57e4baf88c2a36ce07799fa",
       "version_major": 2,
       "version_minor": 0
      },
      "text/plain": [
       "  0%|          | 0/143 [00:00<?, ?it/s]"
      ]
     },
     "metadata": {},
     "output_type": "display_data"
    },
    {
     "data": {
      "application/vnd.jupyter.widget-view+json": {
       "model_id": "ba942e903e154a479d6682b357605080",
       "version_major": 2,
       "version_minor": 0
      },
      "text/plain": [
       "  0%|          | 0/36 [00:00<?, ?it/s]"
      ]
     },
     "metadata": {},
     "output_type": "display_data"
    },
    {
     "name": "stdout",
     "output_type": "stream",
     "text": [
      "\n",
      "Epoch 5/50\n"
     ]
    },
    {
     "data": {
      "application/vnd.jupyter.widget-view+json": {
       "model_id": "54fcad75bf5b4ae49fc4215b8c7cc646",
       "version_major": 2,
       "version_minor": 0
      },
      "text/plain": [
       "  0%|          | 0/143 [00:00<?, ?it/s]"
      ]
     },
     "metadata": {},
     "output_type": "display_data"
    },
    {
     "data": {
      "application/vnd.jupyter.widget-view+json": {
       "model_id": "78f154240e3744b99ddf6dbe7624da74",
       "version_major": 2,
       "version_minor": 0
      },
      "text/plain": [
       "  0%|          | 0/36 [00:00<?, ?it/s]"
      ]
     },
     "metadata": {},
     "output_type": "display_data"
    },
    {
     "name": "stdout",
     "output_type": "stream",
     "text": [
      "\n",
      "Epoch 6/50\n"
     ]
    },
    {
     "data": {
      "application/vnd.jupyter.widget-view+json": {
       "model_id": "09ed2ebc513b4e77837196ec78f7616d",
       "version_major": 2,
       "version_minor": 0
      },
      "text/plain": [
       "  0%|          | 0/143 [00:00<?, ?it/s]"
      ]
     },
     "metadata": {},
     "output_type": "display_data"
    },
    {
     "data": {
      "application/vnd.jupyter.widget-view+json": {
       "model_id": "0c5b12eba44a4b4e9455782304f9195a",
       "version_major": 2,
       "version_minor": 0
      },
      "text/plain": [
       "  0%|          | 0/36 [00:00<?, ?it/s]"
      ]
     },
     "metadata": {},
     "output_type": "display_data"
    },
    {
     "name": "stdout",
     "output_type": "stream",
     "text": [
      "\n",
      "Epoch 7/50\n"
     ]
    },
    {
     "data": {
      "application/vnd.jupyter.widget-view+json": {
       "model_id": "f763b23c880d478a9fe7e2f9f40150a3",
       "version_major": 2,
       "version_minor": 0
      },
      "text/plain": [
       "  0%|          | 0/143 [00:00<?, ?it/s]"
      ]
     },
     "metadata": {},
     "output_type": "display_data"
    },
    {
     "data": {
      "application/vnd.jupyter.widget-view+json": {
       "model_id": "314a8a1c23924d54b0b749dbf81eeaa1",
       "version_major": 2,
       "version_minor": 0
      },
      "text/plain": [
       "  0%|          | 0/36 [00:00<?, ?it/s]"
      ]
     },
     "metadata": {},
     "output_type": "display_data"
    },
    {
     "name": "stdout",
     "output_type": "stream",
     "text": [
      "\n",
      "Epoch 8/50\n"
     ]
    },
    {
     "data": {
      "application/vnd.jupyter.widget-view+json": {
       "model_id": "7f15b0e399c045fca24e1c894c33281c",
       "version_major": 2,
       "version_minor": 0
      },
      "text/plain": [
       "  0%|          | 0/143 [00:00<?, ?it/s]"
      ]
     },
     "metadata": {},
     "output_type": "display_data"
    },
    {
     "data": {
      "application/vnd.jupyter.widget-view+json": {
       "model_id": "a797214868d74452b0acb6d7c47f4750",
       "version_major": 2,
       "version_minor": 0
      },
      "text/plain": [
       "  0%|          | 0/36 [00:00<?, ?it/s]"
      ]
     },
     "metadata": {},
     "output_type": "display_data"
    },
    {
     "name": "stdout",
     "output_type": "stream",
     "text": [
      "\n",
      "Epoch 9/50\n"
     ]
    },
    {
     "data": {
      "application/vnd.jupyter.widget-view+json": {
       "model_id": "bf35489b753c4aaeacb88603e8d4b3d5",
       "version_major": 2,
       "version_minor": 0
      },
      "text/plain": [
       "  0%|          | 0/143 [00:00<?, ?it/s]"
      ]
     },
     "metadata": {},
     "output_type": "display_data"
    },
    {
     "data": {
      "application/vnd.jupyter.widget-view+json": {
       "model_id": "787f5ec1c85d4ad4a1ea13ee3c3e92be",
       "version_major": 2,
       "version_minor": 0
      },
      "text/plain": [
       "  0%|          | 0/36 [00:00<?, ?it/s]"
      ]
     },
     "metadata": {},
     "output_type": "display_data"
    },
    {
     "name": "stdout",
     "output_type": "stream",
     "text": [
      "\n",
      "Epoch 10/50\n"
     ]
    },
    {
     "data": {
      "application/vnd.jupyter.widget-view+json": {
       "model_id": "22df730d56144562834a8aff3d50aa4b",
       "version_major": 2,
       "version_minor": 0
      },
      "text/plain": [
       "  0%|          | 0/143 [00:00<?, ?it/s]"
      ]
     },
     "metadata": {},
     "output_type": "display_data"
    },
    {
     "data": {
      "application/vnd.jupyter.widget-view+json": {
       "model_id": "92c33bf31e5045299ca608d10a1a433d",
       "version_major": 2,
       "version_minor": 0
      },
      "text/plain": [
       "  0%|          | 0/36 [00:00<?, ?it/s]"
      ]
     },
     "metadata": {},
     "output_type": "display_data"
    },
    {
     "name": "stdout",
     "output_type": "stream",
     "text": [
      "\n",
      "Epoch 11/50\n"
     ]
    },
    {
     "data": {
      "application/vnd.jupyter.widget-view+json": {
       "model_id": "5e1de6feba1343b8a710018a0a7d3e7f",
       "version_major": 2,
       "version_minor": 0
      },
      "text/plain": [
       "  0%|          | 0/143 [00:00<?, ?it/s]"
      ]
     },
     "metadata": {},
     "output_type": "display_data"
    },
    {
     "data": {
      "application/vnd.jupyter.widget-view+json": {
       "model_id": "5f90d68b1f854687aae19cbe221e7866",
       "version_major": 2,
       "version_minor": 0
      },
      "text/plain": [
       "  0%|          | 0/36 [00:00<?, ?it/s]"
      ]
     },
     "metadata": {},
     "output_type": "display_data"
    },
    {
     "name": "stdout",
     "output_type": "stream",
     "text": [
      "\n",
      "Epoch 12/50\n"
     ]
    },
    {
     "data": {
      "application/vnd.jupyter.widget-view+json": {
       "model_id": "f26018fefaea4490bcedd73f09b420b6",
       "version_major": 2,
       "version_minor": 0
      },
      "text/plain": [
       "  0%|          | 0/143 [00:00<?, ?it/s]"
      ]
     },
     "metadata": {},
     "output_type": "display_data"
    },
    {
     "data": {
      "application/vnd.jupyter.widget-view+json": {
       "model_id": "8039e4c6848b45a4af4cdeb106785b87",
       "version_major": 2,
       "version_minor": 0
      },
      "text/plain": [
       "  0%|          | 0/36 [00:00<?, ?it/s]"
      ]
     },
     "metadata": {},
     "output_type": "display_data"
    },
    {
     "name": "stdout",
     "output_type": "stream",
     "text": [
      "\n",
      "Epoch 13/50\n"
     ]
    },
    {
     "data": {
      "application/vnd.jupyter.widget-view+json": {
       "model_id": "1c11011940fe4494b97fea8eae0f5c34",
       "version_major": 2,
       "version_minor": 0
      },
      "text/plain": [
       "  0%|          | 0/143 [00:00<?, ?it/s]"
      ]
     },
     "metadata": {},
     "output_type": "display_data"
    },
    {
     "data": {
      "application/vnd.jupyter.widget-view+json": {
       "model_id": "0a5a183306114258b59c80442d3a8aa8",
       "version_major": 2,
       "version_minor": 0
      },
      "text/plain": [
       "  0%|          | 0/36 [00:00<?, ?it/s]"
      ]
     },
     "metadata": {},
     "output_type": "display_data"
    },
    {
     "name": "stdout",
     "output_type": "stream",
     "text": [
      "\n",
      "Epoch 14/50\n"
     ]
    },
    {
     "data": {
      "application/vnd.jupyter.widget-view+json": {
       "model_id": "2f95815ddabd4c21861ed4f2d32e0e9b",
       "version_major": 2,
       "version_minor": 0
      },
      "text/plain": [
       "  0%|          | 0/143 [00:00<?, ?it/s]"
      ]
     },
     "metadata": {},
     "output_type": "display_data"
    },
    {
     "data": {
      "application/vnd.jupyter.widget-view+json": {
       "model_id": "2c640658e62b40d084b709407f40256f",
       "version_major": 2,
       "version_minor": 0
      },
      "text/plain": [
       "  0%|          | 0/36 [00:00<?, ?it/s]"
      ]
     },
     "metadata": {},
     "output_type": "display_data"
    },
    {
     "name": "stdout",
     "output_type": "stream",
     "text": [
      "\n",
      "Epoch 15/50\n"
     ]
    },
    {
     "data": {
      "application/vnd.jupyter.widget-view+json": {
       "model_id": "88f501b3b1eb49e782853cd773a5bc58",
       "version_major": 2,
       "version_minor": 0
      },
      "text/plain": [
       "  0%|          | 0/143 [00:00<?, ?it/s]"
      ]
     },
     "metadata": {},
     "output_type": "display_data"
    },
    {
     "data": {
      "application/vnd.jupyter.widget-view+json": {
       "model_id": "9b224e2d5deb4bf6ba19dd91710467ab",
       "version_major": 2,
       "version_minor": 0
      },
      "text/plain": [
       "  0%|          | 0/36 [00:00<?, ?it/s]"
      ]
     },
     "metadata": {},
     "output_type": "display_data"
    },
    {
     "name": "stdout",
     "output_type": "stream",
     "text": [
      "\n",
      "Epoch 16/50\n"
     ]
    },
    {
     "data": {
      "application/vnd.jupyter.widget-view+json": {
       "model_id": "98cf00bac9ec4b2cbcd4556100522c07",
       "version_major": 2,
       "version_minor": 0
      },
      "text/plain": [
       "  0%|          | 0/143 [00:00<?, ?it/s]"
      ]
     },
     "metadata": {},
     "output_type": "display_data"
    },
    {
     "data": {
      "application/vnd.jupyter.widget-view+json": {
       "model_id": "0b7da9cceb734fdf9b93fcdf0e92b926",
       "version_major": 2,
       "version_minor": 0
      },
      "text/plain": [
       "  0%|          | 0/36 [00:00<?, ?it/s]"
      ]
     },
     "metadata": {},
     "output_type": "display_data"
    },
    {
     "name": "stdout",
     "output_type": "stream",
     "text": [
      "\n",
      "Epoch 17/50\n"
     ]
    },
    {
     "data": {
      "application/vnd.jupyter.widget-view+json": {
       "model_id": "dc93272d1775433487650ec7a737f2ce",
       "version_major": 2,
       "version_minor": 0
      },
      "text/plain": [
       "  0%|          | 0/143 [00:00<?, ?it/s]"
      ]
     },
     "metadata": {},
     "output_type": "display_data"
    },
    {
     "data": {
      "application/vnd.jupyter.widget-view+json": {
       "model_id": "7bc10285e78246c088e257566ebc9a72",
       "version_major": 2,
       "version_minor": 0
      },
      "text/plain": [
       "  0%|          | 0/36 [00:00<?, ?it/s]"
      ]
     },
     "metadata": {},
     "output_type": "display_data"
    },
    {
     "name": "stdout",
     "output_type": "stream",
     "text": [
      "\n",
      "Epoch 18/50\n"
     ]
    },
    {
     "data": {
      "application/vnd.jupyter.widget-view+json": {
       "model_id": "9403ce518c084491a9027ac505fa15a6",
       "version_major": 2,
       "version_minor": 0
      },
      "text/plain": [
       "  0%|          | 0/143 [00:00<?, ?it/s]"
      ]
     },
     "metadata": {},
     "output_type": "display_data"
    },
    {
     "data": {
      "application/vnd.jupyter.widget-view+json": {
       "model_id": "576bde09b4c141fabecba86ec34017a6",
       "version_major": 2,
       "version_minor": 0
      },
      "text/plain": [
       "  0%|          | 0/36 [00:00<?, ?it/s]"
      ]
     },
     "metadata": {},
     "output_type": "display_data"
    },
    {
     "name": "stdout",
     "output_type": "stream",
     "text": [
      "\n",
      "Epoch 19/50\n"
     ]
    },
    {
     "data": {
      "application/vnd.jupyter.widget-view+json": {
       "model_id": "5d74f7c8050b4e0989775753259fe0e0",
       "version_major": 2,
       "version_minor": 0
      },
      "text/plain": [
       "  0%|          | 0/143 [00:00<?, ?it/s]"
      ]
     },
     "metadata": {},
     "output_type": "display_data"
    },
    {
     "data": {
      "application/vnd.jupyter.widget-view+json": {
       "model_id": "665215fd0a79453fac6c4e1b14d7814d",
       "version_major": 2,
       "version_minor": 0
      },
      "text/plain": [
       "  0%|          | 0/36 [00:00<?, ?it/s]"
      ]
     },
     "metadata": {},
     "output_type": "display_data"
    },
    {
     "name": "stdout",
     "output_type": "stream",
     "text": [
      "\n",
      "Validation loss has not improved for 5 epochs. Early stopping...\n",
      "Reverting back to weights for epoch 14.\n",
      "Training Finished!\n"
     ]
    }
   ],
   "source": [
    "classifier.train(\n",
    "    training_loader=train_loader,\n",
    "    eval_loader=val_loader,\n",
    "    num_epochs=Config.epochs,\n",
    "    output_dir='brain_tumor_classification_cnn'\n",
    ")"
   ]
  },
  {
   "cell_type": "markdown",
   "metadata": {
    "id": "JQTYEVFPjXVk"
   },
   "source": [
    "### Visualize Training"
   ]
  },
  {
   "cell_type": "code",
   "execution_count": 26,
   "metadata": {
    "id": "tXWQzZagjbSi",
    "outputId": "b9223c9a-4d7b-4c46-9f21-17c15cf3ae14"
   },
   "outputs": [
    {
     "data": {
      "image/png": "[encoded data removed]",
      "text/plain": [
       "<Figure size 1000x600 with 2 Axes>"
      ]
     },
     "metadata": {},
     "output_type": "display_data"
    }
   ],
   "source": [
    "classifier.plot_training()"
   ]
  },
  {
   "cell_type": "markdown",
   "metadata": {
    "id": "sK2V0_BdqaEc"
   },
   "source": [
    "### Evaluate on Testing Data"
   ]
  },
  {
   "cell_type": "code",
   "execution_count": 27,
   "metadata": {
    "id": "mJy-QiM9qFwt",
    "outputId": "6fdd17e9-f2bc-47b9-a829-d677b674cb2b"
   },
   "outputs": [
    {
     "data": {
      "application/vnd.jupyter.widget-view+json": {
       "model_id": "da0d24c09d48422fac896f444f9abffa",
       "version_major": 2,
       "version_minor": 0
      },
      "text/plain": [
       "  0%|          | 0/41 [00:00<?, ?it/s]"
      ]
     },
     "metadata": {},
     "output_type": "display_data"
    }
   ],
   "source": [
    "classifier.evaluate(test_loader)"
   ]
  },
  {
   "cell_type": "markdown",
   "metadata": {},
   "source": [
    "As we can see, our model had an **88.15%** accuracy to our testing dataset. This is not bad, but in the next section I will show how we can improve this even further."
   ]
  },
  {
   "cell_type": "markdown",
   "metadata": {
    "id": "QYYw113xq6zd"
   },
   "source": [
    "# Fine-Tune Model\n",
    "\n",
    "We will now use the model we just trained to fine-tune the model further. We will freeze all of the layers except the last few convolutional layers. We unfreeze the last couple convolutional layers because the initial layers in the model capture low-level features such as edges and lines, while the later layers capture higher-level features such as shapes and objects, which are specific to the task in hand."
   ]
  },
  {
   "cell_type": "markdown",
   "metadata": {
    "id": "9GFknyGkOmpU"
   },
   "source": [
    "### Load in Trained Model"
   ]
  },
  {
   "cell_type": "code",
   "execution_count": 28,
   "metadata": {
    "id": "jQu5gdE5xEWN"
   },
   "outputs": [],
   "source": [
    "model_base = torch.load('torch_models/brain_tumor_classification_cnn')"
   ]
  },
  {
   "cell_type": "markdown",
   "metadata": {
    "id": "CNoFZlC1OrMs"
   },
   "source": [
    "### Unfreeze Layers"
   ]
  },
  {
   "cell_type": "code",
   "execution_count": 29,
   "metadata": {
    "id": "wm5a180E3P2n"
   },
   "outputs": [
    {
     "name": "stdout",
     "output_type": "stream",
     "text": [
      "model.features.22.weight\n",
      "model.features.22.bias\n",
      "model.features.23.weight\n",
      "model.features.23.bias\n",
      "model.features.25.weight\n",
      "model.features.25.bias\n",
      "model.features.26.weight\n",
      "model.features.26.bias\n"
     ]
    }
   ],
   "source": [
    "# freeze layers\n",
    "for param in model_base.parameters():\n",
    "    param.requires_grad = False\n",
    "\n",
    "# unfreeze last few convolutional layers\n",
    "for param in model_base.model.features[22:].parameters():\n",
    "    param.requires_grad = True\n",
    "\n",
    "# check that layers are frozen\n",
    "for name, param in model_base.named_parameters():\n",
    "    if param.requires_grad:\n",
    "        print(name)"
   ]
  },
  {
   "cell_type": "markdown",
   "metadata": {
    "id": "utlyQmVjO_yz"
   },
   "source": [
    "### Run Training Loop\n",
    "\n",
    "We will create a new optimizer using our base model parameters. We will use a smaller learning rate than what was used in the original tuning. This is to prevent overfitting to the new data and to allow the model to adjust the earlier layers to better match the new data."
   ]
  },
  {
   "cell_type": "code",
   "execution_count": 30,
   "metadata": {},
   "outputs": [],
   "source": [
    "optimizer = optim.Adam(model_base.parameters(), lr=1e-5)"
   ]
  },
  {
   "cell_type": "code",
   "execution_count": 31,
   "metadata": {
    "id": "HuZAsHmfOD27"
   },
   "outputs": [],
   "source": [
    "# initialize classifier\n",
    "classifierV2 = BrainTumorClassification(\n",
    "    model_base, \n",
    "    optimizer, \n",
    "    criterion,\n",
    "    val_transformations,\n",
    "    train_dataset,\n",
    "    Config\n",
    ")"
   ]
  },
  {
   "cell_type": "code",
   "execution_count": 32,
   "metadata": {
    "id": "AMoXI0lc35VU",
    "outputId": "6c049318-8e9e-4fef-9ed6-6b7e74e5dd4c"
   },
   "outputs": [
    {
     "name": "stdout",
     "output_type": "stream",
     "text": [
      "Epoch 1/50\n"
     ]
    },
    {
     "data": {
      "application/vnd.jupyter.widget-view+json": {
       "model_id": "43b886a213464537a2c57f8ccac13c71",
       "version_major": 2,
       "version_minor": 0
      },
      "text/plain": [
       "  0%|          | 0/143 [00:00<?, ?it/s]"
      ]
     },
     "metadata": {},
     "output_type": "display_data"
    },
    {
     "data": {
      "application/vnd.jupyter.widget-view+json": {
       "model_id": "87afbc701ea24cea9dda1d4d7b44cd88",
       "version_major": 2,
       "version_minor": 0
      },
      "text/plain": [
       "  0%|          | 0/36 [00:00<?, ?it/s]"
      ]
     },
     "metadata": {},
     "output_type": "display_data"
    },
    {
     "name": "stdout",
     "output_type": "stream",
     "text": [
      "\n",
      "Epoch 2/50\n"
     ]
    },
    {
     "data": {
      "application/vnd.jupyter.widget-view+json": {
       "model_id": "16578fccb34b438ba8cc3dac7f00e3e0",
       "version_major": 2,
       "version_minor": 0
      },
      "text/plain": [
       "  0%|          | 0/143 [00:00<?, ?it/s]"
      ]
     },
     "metadata": {},
     "output_type": "display_data"
    },
    {
     "data": {
      "application/vnd.jupyter.widget-view+json": {
       "model_id": "4fd276549a0144d6a17c24effb2cf6d3",
       "version_major": 2,
       "version_minor": 0
      },
      "text/plain": [
       "  0%|          | 0/36 [00:00<?, ?it/s]"
      ]
     },
     "metadata": {},
     "output_type": "display_data"
    },
    {
     "name": "stdout",
     "output_type": "stream",
     "text": [
      "\n",
      "Epoch 3/50\n"
     ]
    },
    {
     "data": {
      "application/vnd.jupyter.widget-view+json": {
       "model_id": "add9981a58aa43be838b6b6000da715c",
       "version_major": 2,
       "version_minor": 0
      },
      "text/plain": [
       "  0%|          | 0/143 [00:00<?, ?it/s]"
      ]
     },
     "metadata": {},
     "output_type": "display_data"
    },
    {
     "data": {
      "application/vnd.jupyter.widget-view+json": {
       "model_id": "954f877dd71d41179ab9344718ae5d67",
       "version_major": 2,
       "version_minor": 0
      },
      "text/plain": [
       "  0%|          | 0/36 [00:00<?, ?it/s]"
      ]
     },
     "metadata": {},
     "output_type": "display_data"
    },
    {
     "name": "stdout",
     "output_type": "stream",
     "text": [
      "\n",
      "Epoch 4/50\n"
     ]
    },
    {
     "data": {
      "application/vnd.jupyter.widget-view+json": {
       "model_id": "7a7caddd715d4e5689368d2bb9f1262b",
       "version_major": 2,
       "version_minor": 0
      },
      "text/plain": [
       "  0%|          | 0/143 [00:00<?, ?it/s]"
      ]
     },
     "metadata": {},
     "output_type": "display_data"
    },
    {
     "data": {
      "application/vnd.jupyter.widget-view+json": {
       "model_id": "c8127a561d724005b6098ade8eae7c8b",
       "version_major": 2,
       "version_minor": 0
      },
      "text/plain": [
       "  0%|          | 0/36 [00:00<?, ?it/s]"
      ]
     },
     "metadata": {},
     "output_type": "display_data"
    },
    {
     "name": "stdout",
     "output_type": "stream",
     "text": [
      "\n",
      "Epoch 5/50\n"
     ]
    },
    {
     "data": {
      "application/vnd.jupyter.widget-view+json": {
       "model_id": "c8b8722aeac2493f919d6432ec149c7e",
       "version_major": 2,
       "version_minor": 0
      },
      "text/plain": [
       "  0%|          | 0/143 [00:00<?, ?it/s]"
      ]
     },
     "metadata": {},
     "output_type": "display_data"
    },
    {
     "data": {
      "application/vnd.jupyter.widget-view+json": {
       "model_id": "309a62015a114a7193379e4c338b2703",
       "version_major": 2,
       "version_minor": 0
      },
      "text/plain": [
       "  0%|          | 0/36 [00:00<?, ?it/s]"
      ]
     },
     "metadata": {},
     "output_type": "display_data"
    },
    {
     "name": "stdout",
     "output_type": "stream",
     "text": [
      "\n",
      "Epoch 6/50\n"
     ]
    },
    {
     "data": {
      "application/vnd.jupyter.widget-view+json": {
       "model_id": "6a3f1e27937347df9301340b7ef8a0a2",
       "version_major": 2,
       "version_minor": 0
      },
      "text/plain": [
       "  0%|          | 0/143 [00:00<?, ?it/s]"
      ]
     },
     "metadata": {},
     "output_type": "display_data"
    },
    {
     "data": {
      "application/vnd.jupyter.widget-view+json": {
       "model_id": "90d1e96af41c41398f216390e37d869f",
       "version_major": 2,
       "version_minor": 0
      },
      "text/plain": [
       "  0%|          | 0/36 [00:00<?, ?it/s]"
      ]
     },
     "metadata": {},
     "output_type": "display_data"
    },
    {
     "name": "stdout",
     "output_type": "stream",
     "text": [
      "\n",
      "Epoch 7/50\n"
     ]
    },
    {
     "data": {
      "application/vnd.jupyter.widget-view+json": {
       "model_id": "e50668c228f64084be644dd97b3c8d42",
       "version_major": 2,
       "version_minor": 0
      },
      "text/plain": [
       "  0%|          | 0/143 [00:00<?, ?it/s]"
      ]
     },
     "metadata": {},
     "output_type": "display_data"
    },
    {
     "data": {
      "application/vnd.jupyter.widget-view+json": {
       "model_id": "e859ed0a2ac94735956f65ed02109026",
       "version_major": 2,
       "version_minor": 0
      },
      "text/plain": [
       "  0%|          | 0/36 [00:00<?, ?it/s]"
      ]
     },
     "metadata": {},
     "output_type": "display_data"
    },
    {
     "name": "stdout",
     "output_type": "stream",
     "text": [
      "\n",
      "Epoch 8/50\n"
     ]
    },
    {
     "data": {
      "application/vnd.jupyter.widget-view+json": {
       "model_id": "5aff709ab1704aeb905dac008570004e",
       "version_major": 2,
       "version_minor": 0
      },
      "text/plain": [
       "  0%|          | 0/143 [00:00<?, ?it/s]"
      ]
     },
     "metadata": {},
     "output_type": "display_data"
    },
    {
     "data": {
      "application/vnd.jupyter.widget-view+json": {
       "model_id": "7cd202b020424ef79928c2029cbf9209",
       "version_major": 2,
       "version_minor": 0
      },
      "text/plain": [
       "  0%|          | 0/36 [00:00<?, ?it/s]"
      ]
     },
     "metadata": {},
     "output_type": "display_data"
    },
    {
     "name": "stdout",
     "output_type": "stream",
     "text": [
      "\n",
      "Epoch 9/50\n"
     ]
    },
    {
     "data": {
      "application/vnd.jupyter.widget-view+json": {
       "model_id": "23f6a73216744940be2b30d58aa000ce",
       "version_major": 2,
       "version_minor": 0
      },
      "text/plain": [
       "  0%|          | 0/143 [00:00<?, ?it/s]"
      ]
     },
     "metadata": {},
     "output_type": "display_data"
    },
    {
     "data": {
      "application/vnd.jupyter.widget-view+json": {
       "model_id": "6efc56fba8d547508c7f3badd16c7fdf",
       "version_major": 2,
       "version_minor": 0
      },
      "text/plain": [
       "  0%|          | 0/36 [00:00<?, ?it/s]"
      ]
     },
     "metadata": {},
     "output_type": "display_data"
    },
    {
     "name": "stdout",
     "output_type": "stream",
     "text": [
      "\n",
      "Epoch 10/50\n"
     ]
    },
    {
     "data": {
      "application/vnd.jupyter.widget-view+json": {
       "model_id": "ca6bb242abf64e418551355190354d61",
       "version_major": 2,
       "version_minor": 0
      },
      "text/plain": [
       "  0%|          | 0/143 [00:00<?, ?it/s]"
      ]
     },
     "metadata": {},
     "output_type": "display_data"
    },
    {
     "data": {
      "application/vnd.jupyter.widget-view+json": {
       "model_id": "21e4cf186317411db50a819df26d7fea",
       "version_major": 2,
       "version_minor": 0
      },
      "text/plain": [
       "  0%|          | 0/36 [00:00<?, ?it/s]"
      ]
     },
     "metadata": {},
     "output_type": "display_data"
    },
    {
     "name": "stdout",
     "output_type": "stream",
     "text": [
      "\n",
      "Epoch 11/50\n"
     ]
    },
    {
     "data": {
      "application/vnd.jupyter.widget-view+json": {
       "model_id": "aea6a365256e43a893e789b8e0fbbe36",
       "version_major": 2,
       "version_minor": 0
      },
      "text/plain": [
       "  0%|          | 0/143 [00:00<?, ?it/s]"
      ]
     },
     "metadata": {},
     "output_type": "display_data"
    },
    {
     "data": {
      "application/vnd.jupyter.widget-view+json": {
       "model_id": "9afd48b2dd864cea926a8b5b67e80f59",
       "version_major": 2,
       "version_minor": 0
      },
      "text/plain": [
       "  0%|          | 0/36 [00:00<?, ?it/s]"
      ]
     },
     "metadata": {},
     "output_type": "display_data"
    },
    {
     "name": "stdout",
     "output_type": "stream",
     "text": [
      "\n",
      "Epoch 12/50\n"
     ]
    },
    {
     "data": {
      "application/vnd.jupyter.widget-view+json": {
       "model_id": "f9d6c3f09d0f439fa71773ae34ee5b72",
       "version_major": 2,
       "version_minor": 0
      },
      "text/plain": [
       "  0%|          | 0/143 [00:00<?, ?it/s]"
      ]
     },
     "metadata": {},
     "output_type": "display_data"
    },
    {
     "data": {
      "application/vnd.jupyter.widget-view+json": {
       "model_id": "3438a17b4a4645efb2b6001c27c9f44e",
       "version_major": 2,
       "version_minor": 0
      },
      "text/plain": [
       "  0%|          | 0/36 [00:00<?, ?it/s]"
      ]
     },
     "metadata": {},
     "output_type": "display_data"
    },
    {
     "name": "stdout",
     "output_type": "stream",
     "text": [
      "\n",
      "Epoch 13/50\n"
     ]
    },
    {
     "data": {
      "application/vnd.jupyter.widget-view+json": {
       "model_id": "80d33344d3424d1791e0a4952c08195c",
       "version_major": 2,
       "version_minor": 0
      },
      "text/plain": [
       "  0%|          | 0/143 [00:00<?, ?it/s]"
      ]
     },
     "metadata": {},
     "output_type": "display_data"
    },
    {
     "data": {
      "application/vnd.jupyter.widget-view+json": {
       "model_id": "a6d9123180f6492486e488f69b81f39e",
       "version_major": 2,
       "version_minor": 0
      },
      "text/plain": [
       "  0%|          | 0/36 [00:00<?, ?it/s]"
      ]
     },
     "metadata": {},
     "output_type": "display_data"
    },
    {
     "name": "stdout",
     "output_type": "stream",
     "text": [
      "\n",
      "Epoch 14/50\n"
     ]
    },
    {
     "data": {
      "application/vnd.jupyter.widget-view+json": {
       "model_id": "2c38cc0757524c45b104f9a7126bc19b",
       "version_major": 2,
       "version_minor": 0
      },
      "text/plain": [
       "  0%|          | 0/143 [00:00<?, ?it/s]"
      ]
     },
     "metadata": {},
     "output_type": "display_data"
    },
    {
     "data": {
      "application/vnd.jupyter.widget-view+json": {
       "model_id": "82819f7e702245789c6b5bca480ecde7",
       "version_major": 2,
       "version_minor": 0
      },
      "text/plain": [
       "  0%|          | 0/36 [00:00<?, ?it/s]"
      ]
     },
     "metadata": {},
     "output_type": "display_data"
    },
    {
     "name": "stdout",
     "output_type": "stream",
     "text": [
      "\n",
      "Epoch 15/50\n"
     ]
    },
    {
     "data": {
      "application/vnd.jupyter.widget-view+json": {
       "model_id": "28aacd4450c8415abfb8c965be39f27d",
       "version_major": 2,
       "version_minor": 0
      },
      "text/plain": [
       "  0%|          | 0/143 [00:00<?, ?it/s]"
      ]
     },
     "metadata": {},
     "output_type": "display_data"
    },
    {
     "data": {
      "application/vnd.jupyter.widget-view+json": {
       "model_id": "1f741aadc9da47ce830dcfb4d0ad3c27",
       "version_major": 2,
       "version_minor": 0
      },
      "text/plain": [
       "  0%|          | 0/36 [00:00<?, ?it/s]"
      ]
     },
     "metadata": {},
     "output_type": "display_data"
    },
    {
     "name": "stdout",
     "output_type": "stream",
     "text": [
      "\n",
      "Epoch 16/50\n"
     ]
    },
    {
     "data": {
      "application/vnd.jupyter.widget-view+json": {
       "model_id": "ecf1976cc14f4280870c662f138c073f",
       "version_major": 2,
       "version_minor": 0
      },
      "text/plain": [
       "  0%|          | 0/143 [00:00<?, ?it/s]"
      ]
     },
     "metadata": {},
     "output_type": "display_data"
    },
    {
     "data": {
      "application/vnd.jupyter.widget-view+json": {
       "model_id": "d5634428dc4b4f60830b56bf662e2b0a",
       "version_major": 2,
       "version_minor": 0
      },
      "text/plain": [
       "  0%|          | 0/36 [00:00<?, ?it/s]"
      ]
     },
     "metadata": {},
     "output_type": "display_data"
    },
    {
     "name": "stdout",
     "output_type": "stream",
     "text": [
      "\n",
      "Epoch 17/50\n"
     ]
    },
    {
     "data": {
      "application/vnd.jupyter.widget-view+json": {
       "model_id": "59630da8ca87411da5033f9b2ff2df4e",
       "version_major": 2,
       "version_minor": 0
      },
      "text/plain": [
       "  0%|          | 0/143 [00:00<?, ?it/s]"
      ]
     },
     "metadata": {},
     "output_type": "display_data"
    },
    {
     "data": {
      "application/vnd.jupyter.widget-view+json": {
       "model_id": "e31d0f3510e84f1d8146b30d1f67be1f",
       "version_major": 2,
       "version_minor": 0
      },
      "text/plain": [
       "  0%|          | 0/36 [00:00<?, ?it/s]"
      ]
     },
     "metadata": {},
     "output_type": "display_data"
    },
    {
     "name": "stdout",
     "output_type": "stream",
     "text": [
      "\n",
      "Epoch 18/50\n"
     ]
    },
    {
     "data": {
      "application/vnd.jupyter.widget-view+json": {
       "model_id": "44015f88074846dfb42d18829928caf7",
       "version_major": 2,
       "version_minor": 0
      },
      "text/plain": [
       "  0%|          | 0/143 [00:00<?, ?it/s]"
      ]
     },
     "metadata": {},
     "output_type": "display_data"
    },
    {
     "data": {
      "application/vnd.jupyter.widget-view+json": {
       "model_id": "debc36eb57bb4a6695544d88e569cc8b",
       "version_major": 2,
       "version_minor": 0
      },
      "text/plain": [
       "  0%|          | 0/36 [00:00<?, ?it/s]"
      ]
     },
     "metadata": {},
     "output_type": "display_data"
    },
    {
     "name": "stdout",
     "output_type": "stream",
     "text": [
      "\n",
      "Epoch 19/50\n"
     ]
    },
    {
     "data": {
      "application/vnd.jupyter.widget-view+json": {
       "model_id": "26d3b5e1cdc445359112d869650bd852",
       "version_major": 2,
       "version_minor": 0
      },
      "text/plain": [
       "  0%|          | 0/143 [00:00<?, ?it/s]"
      ]
     },
     "metadata": {},
     "output_type": "display_data"
    },
    {
     "data": {
      "application/vnd.jupyter.widget-view+json": {
       "model_id": "5acb8076dd1e4ada8b93c37b0079cf06",
       "version_major": 2,
       "version_minor": 0
      },
      "text/plain": [
       "  0%|          | 0/36 [00:00<?, ?it/s]"
      ]
     },
     "metadata": {},
     "output_type": "display_data"
    },
    {
     "name": "stdout",
     "output_type": "stream",
     "text": [
      "\n",
      "Epoch 20/50\n"
     ]
    },
    {
     "data": {
      "application/vnd.jupyter.widget-view+json": {
       "model_id": "bed72cd70e1b4afc92b969d12102adeb",
       "version_major": 2,
       "version_minor": 0
      },
      "text/plain": [
       "  0%|          | 0/143 [00:00<?, ?it/s]"
      ]
     },
     "metadata": {},
     "output_type": "display_data"
    },
    {
     "data": {
      "application/vnd.jupyter.widget-view+json": {
       "model_id": "7ab580da32a449869000fc1eb0b69e1d",
       "version_major": 2,
       "version_minor": 0
      },
      "text/plain": [
       "  0%|          | 0/36 [00:00<?, ?it/s]"
      ]
     },
     "metadata": {},
     "output_type": "display_data"
    },
    {
     "name": "stdout",
     "output_type": "stream",
     "text": [
      "\n",
      "Epoch 21/50\n"
     ]
    },
    {
     "data": {
      "application/vnd.jupyter.widget-view+json": {
       "model_id": "477008e898f042f2980632733e765224",
       "version_major": 2,
       "version_minor": 0
      },
      "text/plain": [
       "  0%|          | 0/143 [00:00<?, ?it/s]"
      ]
     },
     "metadata": {},
     "output_type": "display_data"
    },
    {
     "data": {
      "application/vnd.jupyter.widget-view+json": {
       "model_id": "da1a7ec45bd84d67bb222247627d213c",
       "version_major": 2,
       "version_minor": 0
      },
      "text/plain": [
       "  0%|          | 0/36 [00:00<?, ?it/s]"
      ]
     },
     "metadata": {},
     "output_type": "display_data"
    },
    {
     "name": "stdout",
     "output_type": "stream",
     "text": [
      "\n",
      "Epoch 22/50\n"
     ]
    },
    {
     "data": {
      "application/vnd.jupyter.widget-view+json": {
       "model_id": "ea260831797c41c59dbd02c0bb71a382",
       "version_major": 2,
       "version_minor": 0
      },
      "text/plain": [
       "  0%|          | 0/143 [00:00<?, ?it/s]"
      ]
     },
     "metadata": {},
     "output_type": "display_data"
    },
    {
     "data": {
      "application/vnd.jupyter.widget-view+json": {
       "model_id": "e2fa6a64f2ba4179994ca47a2aa57d9e",
       "version_major": 2,
       "version_minor": 0
      },
      "text/plain": [
       "  0%|          | 0/36 [00:00<?, ?it/s]"
      ]
     },
     "metadata": {},
     "output_type": "display_data"
    },
    {
     "name": "stdout",
     "output_type": "stream",
     "text": [
      "\n",
      "Epoch 23/50\n"
     ]
    },
    {
     "data": {
      "application/vnd.jupyter.widget-view+json": {
       "model_id": "671df3d98d7b4836be0b0d10b25a70e6",
       "version_major": 2,
       "version_minor": 0
      },
      "text/plain": [
       "  0%|          | 0/143 [00:00<?, ?it/s]"
      ]
     },
     "metadata": {},
     "output_type": "display_data"
    },
    {
     "data": {
      "application/vnd.jupyter.widget-view+json": {
       "model_id": "2d2546f40d2045a692366e85a07735a1",
       "version_major": 2,
       "version_minor": 0
      },
      "text/plain": [
       "  0%|          | 0/36 [00:00<?, ?it/s]"
      ]
     },
     "metadata": {},
     "output_type": "display_data"
    },
    {
     "name": "stdout",
     "output_type": "stream",
     "text": [
      "\n",
      "Epoch 24/50\n"
     ]
    },
    {
     "data": {
      "application/vnd.jupyter.widget-view+json": {
       "model_id": "8b5744e038c945fda34fbf5e6c22e8a4",
       "version_major": 2,
       "version_minor": 0
      },
      "text/plain": [
       "  0%|          | 0/143 [00:00<?, ?it/s]"
      ]
     },
     "metadata": {},
     "output_type": "display_data"
    },
    {
     "data": {
      "application/vnd.jupyter.widget-view+json": {
       "model_id": "23c3fa07ce2d467db4dfd9d71084bd94",
       "version_major": 2,
       "version_minor": 0
      },
      "text/plain": [
       "  0%|          | 0/36 [00:00<?, ?it/s]"
      ]
     },
     "metadata": {},
     "output_type": "display_data"
    },
    {
     "name": "stdout",
     "output_type": "stream",
     "text": [
      "\n",
      "Epoch 25/50\n"
     ]
    },
    {
     "data": {
      "application/vnd.jupyter.widget-view+json": {
       "model_id": "e8822c52e4474ba8b7fccc873ab3ccf6",
       "version_major": 2,
       "version_minor": 0
      },
      "text/plain": [
       "  0%|          | 0/143 [00:00<?, ?it/s]"
      ]
     },
     "metadata": {},
     "output_type": "display_data"
    },
    {
     "data": {
      "application/vnd.jupyter.widget-view+json": {
       "model_id": "b9c09da394e940feb953ff750cfc6983",
       "version_major": 2,
       "version_minor": 0
      },
      "text/plain": [
       "  0%|          | 0/36 [00:00<?, ?it/s]"
      ]
     },
     "metadata": {},
     "output_type": "display_data"
    },
    {
     "name": "stdout",
     "output_type": "stream",
     "text": [
      "\n",
      "Epoch 26/50\n"
     ]
    },
    {
     "data": {
      "application/vnd.jupyter.widget-view+json": {
       "model_id": "45777c0273ae4eb8a4a25e7ff2b202b5",
       "version_major": 2,
       "version_minor": 0
      },
      "text/plain": [
       "  0%|          | 0/143 [00:00<?, ?it/s]"
      ]
     },
     "metadata": {},
     "output_type": "display_data"
    },
    {
     "data": {
      "application/vnd.jupyter.widget-view+json": {
       "model_id": "1cf77977fc0045cf9d6f76bbd026ed81",
       "version_major": 2,
       "version_minor": 0
      },
      "text/plain": [
       "  0%|          | 0/36 [00:00<?, ?it/s]"
      ]
     },
     "metadata": {},
     "output_type": "display_data"
    },
    {
     "name": "stdout",
     "output_type": "stream",
     "text": [
      "\n",
      "Epoch 27/50\n"
     ]
    },
    {
     "data": {
      "application/vnd.jupyter.widget-view+json": {
       "model_id": "f00a655db1af471b9c09040dd351dc86",
       "version_major": 2,
       "version_minor": 0
      },
      "text/plain": [
       "  0%|          | 0/143 [00:00<?, ?it/s]"
      ]
     },
     "metadata": {},
     "output_type": "display_data"
    },
    {
     "data": {
      "application/vnd.jupyter.widget-view+json": {
       "model_id": "14dfb433f5ef4882bf9e84d30b82893c",
       "version_major": 2,
       "version_minor": 0
      },
      "text/plain": [
       "  0%|          | 0/36 [00:00<?, ?it/s]"
      ]
     },
     "metadata": {},
     "output_type": "display_data"
    },
    {
     "name": "stdout",
     "output_type": "stream",
     "text": [
      "\n",
      "Epoch 28/50\n"
     ]
    },
    {
     "data": {
      "application/vnd.jupyter.widget-view+json": {
       "model_id": "5fefc50a1dc04d57bf97f10e28723980",
       "version_major": 2,
       "version_minor": 0
      },
      "text/plain": [
       "  0%|          | 0/143 [00:00<?, ?it/s]"
      ]
     },
     "metadata": {},
     "output_type": "display_data"
    },
    {
     "data": {
      "application/vnd.jupyter.widget-view+json": {
       "model_id": "4bec234cb77a473089577cf25805b7b5",
       "version_major": 2,
       "version_minor": 0
      },
      "text/plain": [
       "  0%|          | 0/36 [00:00<?, ?it/s]"
      ]
     },
     "metadata": {},
     "output_type": "display_data"
    },
    {
     "name": "stdout",
     "output_type": "stream",
     "text": [
      "\n",
      "Epoch 29/50\n"
     ]
    },
    {
     "data": {
      "application/vnd.jupyter.widget-view+json": {
       "model_id": "6386140f0a2f4668bdac80e982d8eb09",
       "version_major": 2,
       "version_minor": 0
      },
      "text/plain": [
       "  0%|          | 0/143 [00:00<?, ?it/s]"
      ]
     },
     "metadata": {},
     "output_type": "display_data"
    },
    {
     "data": {
      "application/vnd.jupyter.widget-view+json": {
       "model_id": "1f840ed9e85a46a9bc74f5e099937e3e",
       "version_major": 2,
       "version_minor": 0
      },
      "text/plain": [
       "  0%|          | 0/36 [00:00<?, ?it/s]"
      ]
     },
     "metadata": {},
     "output_type": "display_data"
    },
    {
     "name": "stdout",
     "output_type": "stream",
     "text": [
      "\n",
      "Epoch 30/50\n"
     ]
    },
    {
     "data": {
      "application/vnd.jupyter.widget-view+json": {
       "model_id": "24ed2c24bc5d48c78bff1a59e3dca8e7",
       "version_major": 2,
       "version_minor": 0
      },
      "text/plain": [
       "  0%|          | 0/143 [00:00<?, ?it/s]"
      ]
     },
     "metadata": {},
     "output_type": "display_data"
    },
    {
     "data": {
      "application/vnd.jupyter.widget-view+json": {
       "model_id": "77a44d36d01c4b0db49acf284e78b95d",
       "version_major": 2,
       "version_minor": 0
      },
      "text/plain": [
       "  0%|          | 0/36 [00:00<?, ?it/s]"
      ]
     },
     "metadata": {},
     "output_type": "display_data"
    },
    {
     "name": "stdout",
     "output_type": "stream",
     "text": [
      "\n",
      "Epoch 31/50\n"
     ]
    },
    {
     "data": {
      "application/vnd.jupyter.widget-view+json": {
       "model_id": "2f2e6995f81041518355fce921e350b0",
       "version_major": 2,
       "version_minor": 0
      },
      "text/plain": [
       "  0%|          | 0/143 [00:00<?, ?it/s]"
      ]
     },
     "metadata": {},
     "output_type": "display_data"
    },
    {
     "data": {
      "application/vnd.jupyter.widget-view+json": {
       "model_id": "13b7a9d9a62f4967b37fe792033d330d",
       "version_major": 2,
       "version_minor": 0
      },
      "text/plain": [
       "  0%|          | 0/36 [00:00<?, ?it/s]"
      ]
     },
     "metadata": {},
     "output_type": "display_data"
    },
    {
     "name": "stdout",
     "output_type": "stream",
     "text": [
      "\n",
      "Epoch 32/50\n"
     ]
    },
    {
     "data": {
      "application/vnd.jupyter.widget-view+json": {
       "model_id": "28f702d6433342cca3876dca4b217c8d",
       "version_major": 2,
       "version_minor": 0
      },
      "text/plain": [
       "  0%|          | 0/143 [00:00<?, ?it/s]"
      ]
     },
     "metadata": {},
     "output_type": "display_data"
    },
    {
     "data": {
      "application/vnd.jupyter.widget-view+json": {
       "model_id": "63a5247b4f9f41279f634804ef2ab276",
       "version_major": 2,
       "version_minor": 0
      },
      "text/plain": [
       "  0%|          | 0/36 [00:00<?, ?it/s]"
      ]
     },
     "metadata": {},
     "output_type": "display_data"
    },
    {
     "name": "stdout",
     "output_type": "stream",
     "text": [
      "\n",
      "Epoch 33/50\n"
     ]
    },
    {
     "data": {
      "application/vnd.jupyter.widget-view+json": {
       "model_id": "9af6ed6085b4413e8a0420a672f5af4f",
       "version_major": 2,
       "version_minor": 0
      },
      "text/plain": [
       "  0%|          | 0/143 [00:00<?, ?it/s]"
      ]
     },
     "metadata": {},
     "output_type": "display_data"
    },
    {
     "data": {
      "application/vnd.jupyter.widget-view+json": {
       "model_id": "a9470d94e25c42c8a7e6407d49a62ada",
       "version_major": 2,
       "version_minor": 0
      },
      "text/plain": [
       "  0%|          | 0/36 [00:00<?, ?it/s]"
      ]
     },
     "metadata": {},
     "output_type": "display_data"
    },
    {
     "name": "stdout",
     "output_type": "stream",
     "text": [
      "\n",
      "Epoch 34/50\n"
     ]
    },
    {
     "data": {
      "application/vnd.jupyter.widget-view+json": {
       "model_id": "c3063b294ff74fd5a7d370b19a946776",
       "version_major": 2,
       "version_minor": 0
      },
      "text/plain": [
       "  0%|          | 0/143 [00:00<?, ?it/s]"
      ]
     },
     "metadata": {},
     "output_type": "display_data"
    },
    {
     "data": {
      "application/vnd.jupyter.widget-view+json": {
       "model_id": "eb2aff2b331643029ce5612e2fa365c7",
       "version_major": 2,
       "version_minor": 0
      },
      "text/plain": [
       "  0%|          | 0/36 [00:00<?, ?it/s]"
      ]
     },
     "metadata": {},
     "output_type": "display_data"
    },
    {
     "name": "stdout",
     "output_type": "stream",
     "text": [
      "\n",
      "Epoch 35/50\n"
     ]
    },
    {
     "data": {
      "application/vnd.jupyter.widget-view+json": {
       "model_id": "501d434a6d7f48d19a73e76e983ee1cd",
       "version_major": 2,
       "version_minor": 0
      },
      "text/plain": [
       "  0%|          | 0/143 [00:00<?, ?it/s]"
      ]
     },
     "metadata": {},
     "output_type": "display_data"
    },
    {
     "data": {
      "application/vnd.jupyter.widget-view+json": {
       "model_id": "e14ec202e1c64ad1b94e70a4c23b811d",
       "version_major": 2,
       "version_minor": 0
      },
      "text/plain": [
       "  0%|          | 0/36 [00:00<?, ?it/s]"
      ]
     },
     "metadata": {},
     "output_type": "display_data"
    },
    {
     "name": "stdout",
     "output_type": "stream",
     "text": [
      "\n",
      "Validation loss has not improved for 5 epochs. Early stopping...\n",
      "Reverting back to weights for epoch 30.\n",
      "Training Finished!\n"
     ]
    }
   ],
   "source": [
    "classifierV2.train(\n",
    "    training_loader=train_loader,\n",
    "    eval_loader=val_loader,\n",
    "    num_epochs=Config.epochs,\n",
    "    output_dir='brain_tumor_classification_cnn_tuned'\n",
    ")"
   ]
  },
  {
   "cell_type": "markdown",
   "metadata": {
    "id": "liGI164KPFbr"
   },
   "source": [
    "### Visualize training"
   ]
  },
  {
   "cell_type": "code",
   "execution_count": 33,
   "metadata": {
    "id": "NCNPcOXlPNH9"
   },
   "outputs": [
    {
     "data": {
      "image/png": "[encoded data removed]",
      "text/plain": [
       "<Figure size 1000x600 with 2 Axes>"
      ]
     },
     "metadata": {},
     "output_type": "display_data"
    }
   ],
   "source": [
    "classifierV2.plot_training()"
   ]
  },
  {
   "cell_type": "markdown",
   "metadata": {
    "id": "GNUTOyr3PPyo"
   },
   "source": [
    "### Test on Testing Data"
   ]
  },
  {
   "cell_type": "code",
   "execution_count": 34,
   "metadata": {
    "id": "J6OlmAcXPTPD",
    "tags": []
   },
   "outputs": [
    {
     "data": {
      "application/vnd.jupyter.widget-view+json": {
       "model_id": "5ebbc56ad68b41f2a15daba7fcb28ef6",
       "version_major": 2,
       "version_minor": 0
      },
      "text/plain": [
       "  0%|          | 0/41 [00:00<?, ?it/s]"
      ]
     },
     "metadata": {},
     "output_type": "display_data"
    }
   ],
   "source": [
    "classifierV2.evaluate(test_loader)"
   ]
  },
  {
   "cell_type": "markdown",
   "metadata": {},
   "source": [
    "Our new accuracy after fine-tuning is **96.03%** on our test dataset. "
   ]
  }
 ],
 "metadata": {
  "kernelspec": {
   "display_name": "Python 3 (ipykernel)",
   "language": "python",
   "name": "python3"
  },
  "language_info": {
   "codemirror_mode": {
    "name": "ipython",
    "version": 3
   },
   "file_extension": ".py",
   "mimetype": "text/x-python",
   "name": "python",
   "nbconvert_exporter": "python",
   "pygments_lexer": "ipython3",
   "version": "3.9.16"
  }
 },
 "nbformat": 4,
 "nbformat_minor": 4
}
